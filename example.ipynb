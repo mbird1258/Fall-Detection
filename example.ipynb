{
 "cells": [
  {
   "cell_type": "code",
   "execution_count": null,
   "metadata": {},
   "outputs": [],
   "source": [
    "import manager\n",
    "import cv2\n",
    "import importlib\n",
    "import numpy as np\n",
    "import os"
   ]
  },
  {
   "cell_type": "code",
   "execution_count": null,
   "metadata": {},
   "outputs": [],
   "source": [
    "importlib.reload(manager)\n",
    "importlib.reload(manager.utils)\n",
    "\n",
    "for file in os.listdir(os.fsencode(\"In\")):\n",
    "    filename = os.fsdecode(file)\n",
    "\n",
    "    if not filename.endswith(\".mp4\"):\n",
    "        continue\n",
    "\n",
    "    cap1 = cv2.VideoCapture(f\"In/{filename}\")\n",
    "    CamManagers = np.array([manager.CameraManager(cap1, f\"Video {filename[:-4]}\")])\n",
    "\n",
    "    while len(CamManagers) > 0:\n",
    "        for CamManager in CamManagers:\n",
    "            res, out = CamManager.main()\n",
    "            if res:\n",
    "                continue\n",
    "            \n",
    "            CamManagers = CamManagers[CamManagers != CamManager]\n",
    "            print(out)"
   ]
  }
 ],
 "metadata": {
  "kernelspec": {
   "display_name": ".venv",
   "language": "python",
   "name": "python3"
  },
  "language_info": {
   "codemirror_mode": {
    "name": "ipython",
    "version": 3
   },
   "file_extension": ".py",
   "mimetype": "text/x-python",
   "name": "python",
   "nbconvert_exporter": "python",
   "pygments_lexer": "ipython3",
   "version": "3.11.1"
  }
 },
 "nbformat": 4,
 "nbformat_minor": 2
}
